{
 "cells": [
  {
   "cell_type": "code",
   "execution_count": 2,
   "metadata": {},
   "outputs": [],
   "source": [
    "import os\n",
    "import torch\n",
    "import pandas as pd\n",
    "\n",
    "from PIL import Image\n",
    "from torch.utils.data import Dataset\n",
    "from torch.utils.data import DataLoader\n",
    "from torchvision import transforms\n",
    "import numpy as np \n",
    "from matplotlib import pyplot as plt\n",
    "from torchvision.utils import make_grid\n",
    "#from torchsummary  import summary\n",
    "import torch.nn as nn\n",
    "import torch.optim as optim"
   ]
  },
  {
   "cell_type": "code",
   "execution_count": 10,
   "metadata": {},
   "outputs": [],
   "source": [
    "class MyDataset(Dataset):\n",
    "\n",
    "    def __init__(self, csv_path,label_transform =None,  transform=None):\n",
    "\n",
    "        self.df = pd.read_csv(csv_path)\n",
    "        \n",
    "        #self.df = self.df.sample(n=100, random_state=42).reset_index(drop=True)  \n",
    "        self.label_transform= label_transform\n",
    "        self.transform = transform\n",
    "        \n",
    "        \n",
    "    def __len__(self):\n",
    "        return len(self.df)\n",
    "\n",
    "    def __getitem__(self, index):\n",
    "        image_path = self.df.loc[index, 'Images']\n",
    "        #img = Image.open(image_path).convert(\"RGB\")\n",
    "        img = np.load(image_path)\n",
    "        img = Image.fromarray(img.astype('uint8')).convert('RGB')\n",
    "         \n",
    "        img= np.array(img)\n",
    "        \n",
    "        label = self.df.loc[index,'365']\n",
    "        \n",
    "        \n",
    "        ## clinical \n",
    "        sCD25 = self.df.loc[index,'sCD25(IL-2Ra)']\n",
    "        BB14 = self.df.loc[index,'4-1BB']\n",
    "        CTLA = self.df.loc[index,'CTLA-4']\n",
    "        PDL1 = self.df.loc[index,'PD-L1'] \n",
    "        PD = self.df.loc[index,'PD-1']\n",
    "        Tim = self.df.loc[index,'Tim-3']\n",
    "        \n",
    "        \n",
    "        tabular = [[sCD25, BB14,CTLA , PDL1, PD, Tim]]\n",
    "        tabular = torch.FloatTensor(tabular)\n",
    "\n",
    "        \n",
    "                            \n",
    "        if self.transform is not None:\n",
    "            img = self.transform(img)\n",
    "        if self.label_transform is not None:\n",
    "            label = self.label_transform(label)\n",
    "\n",
    "        return img, tabular, label\n",
    "\n",
    "    "
   ]
  },
  {
   "cell_type": "code",
   "execution_count": 11,
   "metadata": {},
   "outputs": [],
   "source": [
    "train_transforms=transforms.Compose([transforms.ToPILImage(),\n",
    "                              transforms.Resize((224,224)),\n",
    "                             transforms.ToTensor(),\n",
    "                             #transforms.RandomHorizontalFlip(),\n",
    "                             #transforms.Normalize([0.2281, 0.2281, 0.2281], [0.2293, 0.2293, 0.2293])\n",
    "                             ])\n",
    "#transforms.RandomHorizontalFlip(),\n",
    "#transforms.Normalize([0.4436, 0.4436, 0.4436], [0.2001, 0.2001, 0.2001]),"
   ]
  },
  {
   "cell_type": "code",
   "execution_count": 12,
   "metadata": {},
   "outputs": [],
   "source": [
    "   train_dataset = MyDataset(\n",
    "        csv_path='/root/code/thesis/codeFolder/LatestDataInUse/csv/CT2SequencesCombine_numpy_tumor.csv',\n",
    "        transform=train_transforms)"
   ]
  },
  {
   "cell_type": "code",
   "execution_count": 13,
   "metadata": {},
   "outputs": [],
   "source": [
    "\n",
    "    train_loader = DataLoader(\n",
    "        dataset=train_dataset,\n",
    "        batch_size=32,\n",
    "        drop_last=True,\n",
    "        shuffle=True,  # want to shuffle the dataset\n",
    "        num_workers=0)"
   ]
  },
  {
   "cell_type": "code",
   "execution_count": 14,
   "metadata": {},
   "outputs": [],
   "source": [
    "def get_mean_and_std(dataloader):\n",
    "    channels_sum, channels_squared_sum, num_batches = 0, 0, 0\n",
    "    for images, clincial_data, labels in train_loader:\n",
    "        # Mean over batch, height and width, but not over the channels\n",
    "        channels_sum += torch.mean(images, dim=[0,2,3])\n",
    "        channels_squared_sum += torch.mean(images**2, dim=[0,2,3])\n",
    "        num_batches += 1\n",
    "    \n",
    "    mean = channels_sum / num_batches\n",
    "\n",
    "    # std = sqrt(E[X^2] - (E[X])^2)\n",
    "    std = (channels_squared_sum / num_batches - mean ** 2) ** 0.5\n",
    "\n",
    "    return mean, std"
   ]
  },
  {
   "cell_type": "code",
   "execution_count": null,
   "metadata": {},
   "outputs": [],
   "source": [
    "get_mean_and_std(train_loader)"
   ]
  },
  {
   "cell_type": "code",
   "execution_count": 15,
   "metadata": {},
   "outputs": [
    {
     "data": {
      "text/plain": [
       "(tensor([0.0381, 0.0381, 0.0381]), tensor([0.1041, 0.1041, 0.1041]))"
      ]
     },
     "execution_count": 15,
     "metadata": {},
     "output_type": "execute_result"
    }
   ],
   "source": [
    "#CT two sequences numpy tumor\n",
    "(tensor([0.0381, 0.0381, 0.0381]), tensor([0.1041, 0.1041, 0.1041]))"
   ]
  },
  {
   "cell_type": "code",
   "execution_count": 9,
   "metadata": {},
   "outputs": [],
   "source": [
    "#CT two sequences\n",
    "(tensor([0.0498, 0.0498, 0.0498]), tensor([0.1235, 0.1235, 0.1235]))"
   ]
  },
  {
   "cell_type": "code",
   "execution_count": 7,
   "metadata": {},
   "outputs": [],
   "source": [
    "#s3t1_wats_combine\n",
    "tensor([0.1865, 0.1865, 0.1865]), tensor([0.2008, 0.2008, 0.2008]))"
   ]
  },
  {
   "cell_type": "code",
   "execution_count": null,
   "metadata": {},
   "outputs": [],
   "source": [
    "#e_thrive-\n",
    "(tensor([0.1469, 0.1469, 0.1469]), tensor([0.1824, 0.1824, 0.1824]))"
   ]
  },
  {
   "cell_type": "code",
   "execution_count": 8,
   "metadata": {},
   "outputs": [],
   "source": [
    "#e-thrive_bh\n",
    "(tensor([0.1634, 0.1634, 0.1634]), tensor([0.1898, 0.1898, 0.1898]))"
   ]
  },
  {
   "cell_type": "code",
   "execution_count": null,
   "metadata": {},
   "outputs": [],
   "source": [
    "#t2_hr_spir_range\n",
    "(tensor([0.0716, 0.0716, 0.0716]), tensor([0.1088, 0.1088, 0.1088]))"
   ]
  },
  {
   "cell_type": "code",
   "execution_count": 10,
   "metadata": {},
   "outputs": [
    {
     "ename": "NameError",
     "evalue": "name 'tensor' is not defined",
     "output_type": "error",
     "traceback": [
      "\u001b[0;31m---------------------------------------------------------------------------\u001b[0m",
      "\u001b[0;31mNameError\u001b[0m                                 Traceback (most recent call last)",
      "Cell \u001b[0;32mIn[10], line 2\u001b[0m\n\u001b[1;32m      1\u001b[0m \u001b[38;5;66;03m# MRT4Sequences\u001b[39;00m\n\u001b[0;32m----> 2\u001b[0m (\u001b[43mtensor\u001b[49m([\u001b[38;5;241m0.1391\u001b[39m, \u001b[38;5;241m0.1391\u001b[39m, \u001b[38;5;241m0.1391\u001b[39m]), tensor([\u001b[38;5;241m0.1779\u001b[39m, \u001b[38;5;241m0.1779\u001b[39m, \u001b[38;5;241m0.1779\u001b[39m]))\n",
      "\u001b[0;31mNameError\u001b[0m: name 'tensor' is not defined"
     ]
    }
   ],
   "source": [
    "# MRT4Sequences\n",
    "(tensor([0.1391, 0.1391, 0.1391]), tensor([0.1779, 0.1779, 0.1779]))"
   ]
  },
  {
   "cell_type": "code",
   "execution_count": null,
   "metadata": {},
   "outputs": [],
   "source": [
    "# MRT5Sequences"
   ]
  }
 ],
 "metadata": {
  "kernelspec": {
   "display_name": "usama",
   "language": "python",
   "name": "usama"
  },
  "language_info": {
   "codemirror_mode": {
    "name": "ipython",
    "version": 3
   },
   "file_extension": ".py",
   "mimetype": "text/x-python",
   "name": "python",
   "nbconvert_exporter": "python",
   "pygments_lexer": "ipython3",
   "version": "3.10.10"
  }
 },
 "nbformat": 4,
 "nbformat_minor": 2
}
