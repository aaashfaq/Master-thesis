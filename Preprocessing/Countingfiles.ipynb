{
 "cells": [
  {
   "cell_type": "code",
   "execution_count": 1,
   "metadata": {},
   "outputs": [
    {
     "name": "stdout",
     "output_type": "stream",
     "text": [
      "Total number of files starting with \"I\" in the folder and its subfolders: 29592\n"
     ]
    }
   ],
   "source": [
    "import os\n",
    "\n",
    "def count_files_starting_with_letter(folder_path, starting_letter):\n",
    "    total_files = 0\n",
    "\n",
    "    # Walk through the directory and count files starting with the specified letter\n",
    "    for _, _, files in os.walk(folder_path):\n",
    "        total_files += sum(1 for file in files if file.lower().startswith(starting_letter.lower()))\n",
    "\n",
    "    return total_files\n",
    "\n",
    "# Specify the path of the folder and the starting letter you want to count\n",
    "folder_path = '/root/Data/CTMRTExcelLat/CT'\n",
    "target_starting_letter = 'I'\n",
    "\n",
    "# Call the function and print the result\n",
    "total_files_count = count_files_starting_with_letter(folder_path, target_starting_letter)\n",
    "print(f'Total number of files starting with \"{target_starting_letter}\" in the folder and its subfolders: {total_files_count}')\n"
   ]
  },
  {
   "cell_type": "code",
   "execution_count": 1,
   "metadata": {},
   "outputs": [
    {
     "name": "stdout",
     "output_type": "stream",
     "text": [
      "Total number of .png files in the folder and its subfolders: 0\n"
     ]
    }
   ],
   "source": [
    "import os\n",
    "\n",
    "def count_files_with_extension(folder_path, extension):\n",
    "    total_files = 0\n",
    "\n",
    "    # Walk through the directory and count files with the specified extension\n",
    "    for _, _, files in os.walk(folder_path):\n",
    "        total_files += sum(1 for file in files if file.lower().endswith(extension.lower()))\n",
    "\n",
    "    return total_files\n",
    "\n",
    "# Specify the path of the folder and the extension you want to count\n",
    "folder_path = 'code/thesis/codeFolder/LatestDataInUse/e-thrive_'\n",
    "target_extension = '.png'\n",
    "\n",
    "# Call the function and print the result\n",
    "total_files_count = count_files_with_extension(folder_path, target_extension)\n",
    "print(f'Total number of {target_extension} files in the folder and its subfolders: {total_files_count}')\n"
   ]
  },
  {
   "cell_type": "code",
   "execution_count": 8,
   "metadata": {},
   "outputs": [
    {
     "name": "stdout",
     "output_type": "stream",
     "text": [
      "Total number of .png files in the folder and its subfolders: 1489\n"
     ]
    }
   ],
   "source": [
    "import os\n",
    "\n",
    "def count_files_with_extension(folder_path, extension):\n",
    "    total_files = 0\n",
    "\n",
    "    # Walk through the directory and count files with the specified extension\n",
    "    for _, _, files in os.walk(folder_path):\n",
    "        total_files += sum(1 for file in files if file.lower().endswith(extension.lower()))\n",
    "\n",
    "    return total_files\n",
    "\n",
    "# Specify the path of the folder and the extension you want to count\n",
    "folder_path = '/root/code/thesis/codeFolder/LatestDataInUse/Combining/e-thrive_'\n",
    "target_extension = '.png'\n",
    "\n",
    "# Call the function and print the result\n",
    "total_files_count = count_files_with_extension(folder_path, target_extension)\n",
    "print(f'Total number of {target_extension} files in the folder and its subfolders: {total_files_count}')\n"
   ]
  },
  {
   "cell_type": "code",
   "execution_count": 4,
   "metadata": {},
   "outputs": [
    {
     "name": "stdout",
     "output_type": "stream",
     "text": [
      "Total number of files in the folder and its subfolders: 29051\n"
     ]
    }
   ],
   "source": [
    "import os\n",
    "\n",
    "def count_all_files(folder_path):\n",
    "    total_files = 0\n",
    "\n",
    "    # Walk through the directory and count all files\n",
    "    for _, _, files in os.walk(folder_path):\n",
    "        total_files += len(files)\n",
    "\n",
    "    return total_files\n",
    "\n",
    "# Specify the path of the folder\n",
    "folder_path = '/root/Data/MRTData/MRT'\n",
    "\n",
    "# Call the function and print the result\n",
    "total_files_count = count_all_files(folder_path)\n",
    "print(f'Total number of files in the folder and its subfolders: {total_files_count}')\n"
   ]
  },
  {
   "cell_type": "code",
   "execution_count": 11,
   "metadata": {},
   "outputs": [
    {
     "name": "stdout",
     "output_type": "stream",
     "text": [
      "Total number of files in the folder and its subfolders: 2970\n"
     ]
    }
   ],
   "source": [
    "import os\n",
    "\n",
    "def count_all_files(folder_path):\n",
    "    total_files = 0\n",
    "\n",
    "    # Walk through the directory and count all files\n",
    "    for _, _, files in os.walk(folder_path):\n",
    "        total_files += len(files)\n",
    "\n",
    "    return total_files\n",
    "\n",
    "# Specify the path of the folder\n",
    "folder_path = '/root/code/thesis/codeFolder/LatestDataInUse/CombiningnotETHRIVEBH'\n",
    "\n",
    "# Call the function and print the result\n",
    "total_files_count = count_all_files(folder_path)\n",
    "print(f'Total number of files in the folder and its subfolders: {total_files_count}')\n"
   ]
  },
  {
   "cell_type": "code",
   "execution_count": null,
   "metadata": {},
   "outputs": [],
   "source": []
  }
 ],
 "metadata": {
  "kernelspec": {
   "display_name": "usama",
   "language": "python",
   "name": "usama"
  },
  "language_info": {
   "codemirror_mode": {
    "name": "ipython",
    "version": 3
   },
   "file_extension": ".py",
   "mimetype": "text/x-python",
   "name": "python",
   "nbconvert_exporter": "python",
   "pygments_lexer": "ipython3",
   "version": "3.10.10"
  }
 },
 "nbformat": 4,
 "nbformat_minor": 2
}
